{
 "cells": [
  {
   "cell_type": "markdown",
   "metadata": {},
   "source": [
    "# Get CFB data from CFDB"
   ]
  },
  {
   "cell_type": "markdown",
   "metadata": {},
   "source": [
    "This code extracts play-by-play data from the college football database API using the **cfbd** package. Additional cleaning and stat aggregation is completed prior to writing data to .csv file for R analysis.\n",
    "\n",
    "**Further R analysis**\n",
    "Play-by-play and aggregated player statistics are used in a multiple linear regression model that predicts fantasy points"
   ]
  },
  {
   "cell_type": "code",
   "execution_count": 1,
   "metadata": {},
   "outputs": [],
   "source": [
    "from __future__ import print_function\n",
    "import time\n",
    "import cfbd\n",
    "from cfbd.rest import ApiException\n",
    "from pprint import pprint\n",
    "import pandas as pd\n",
    "import config \n",
    "\n",
    "configuration = cfbd.Configuration()\n",
    "configuration.api_key['Authorization'] = config.api_key\n",
    "configuration.api_key_prefix['Authorization'] = config.api_key_prefix"
   ]
  },
  {
   "cell_type": "markdown",
   "metadata": {},
   "source": [
    "# Player Stats - Game"
   ]
  },
  {
   "cell_type": "code",
   "execution_count": 2,
   "metadata": {},
   "outputs": [],
   "source": [
    "# debug\n",
    "api_instance = cfbd.GamesApi(cfbd.ApiClient(configuration))\n",
    "games = api_instance.get_player_game_stats(year=2020, week=12, season_type='regular')"
   ]
  },
  {
   "cell_type": "code",
   "execution_count": 3,
   "metadata": {},
   "outputs": [],
   "source": [
    "# create an instance of the API class\n",
    "api_instance = cfbd.GamesApi(cfbd.ApiClient(configuration))\n",
    "\n",
    "# Get data for each week\n",
    "year_list = [2020,2021]\n",
    "\n",
    "season_type = 'regular' # str | Season type filter\n",
    "\n",
    "games_2020 = [] # list of games by week, week = index+1\n",
    "\n",
    "for i in year_list:\n",
    "    for j in range(1,17):\n",
    "        games = api_instance.get_player_game_stats(year=i, week=j, season_type=season_type)\n",
    "        games_2020.append(games)"
   ]
  },
  {
   "cell_type": "code",
   "execution_count": 4,
   "metadata": {},
   "outputs": [],
   "source": [
    "# Wrap this in a function\n",
    "def get_stats(api_response):\n",
    "\n",
    "    temp = [g.teams for g in api_response]\n",
    "\n",
    "    # Get lists of all stats\n",
    "    team = [] \n",
    "    statCats = [] # stat category (i.e. passing, rushing, receiving)\n",
    "    statName = [] # i.e. rushing TD, passing TD, etc.\n",
    "    player = []\n",
    "    playerID = []\n",
    "    value = [] # raw value for each stat, (4.0 avg reception, 2 receiving TDs, etc.)\n",
    "    opponent = []\n",
    "    statCat = ['fumbles', 'receiving', 'rushing', 'passing'] # only want these stat categories\n",
    "\n",
    "    for i in range(0, len(temp)):\n",
    "        for j in range(0,2):\n",
    "            for k in range(0, len(temp[i][j%2]['categories'])):\n",
    "                if(temp[i][j%2]['categories'][k]['name'] in statCat):\n",
    "                    for m in range(0, len(temp[i][j%2]['categories'][k]['types'])):\n",
    "                        for n in range(0, len(temp[i][j%2]['categories'][k]['types'][m]['athletes'])):\n",
    "                            team.append(temp[i][j%2]['school'])\n",
    "                            opponent.append(temp[i][abs(j%2-1)]['school'])\n",
    "                            statCats.append(temp[i][j%2]['categories'][k]['name'])\n",
    "                            statName.append(temp[i][j%2]['categories'][k]['types'][m]['name'])\n",
    "                            player.append(temp[i][j%2]['categories'][k]['types'][m]['athletes'][n]['name'])\n",
    "                            playerID.append(temp[i][j%2]['categories'][k]['types'][m]['athletes'][n]['id'])\n",
    "                            value.append(temp[i][j%2]['categories'][k]['types'][m]['athletes'][n]['stat'])\n",
    "    \n",
    "    # Fix San Jose State tilde\n",
    "    team = [i.replace('é', 'e') for i in team]\n",
    "    \n",
    "    temp_list = []\n",
    "    for t, sc, sn, p, pid, v, o in zip(team, statCats, statName, player, playerID, value, opponent):\n",
    "        temp = { 'Team': t, 'StatCat':sc, 'StatName':sn, 'Player': p, 'PlayerID': pid, 'Value':v, 'Opponent':o }\n",
    "        temp_list.append(temp)\n",
    "    \n",
    "    df = pd.DataFrame(temp_list)\n",
    "    return(df)"
   ]
  },
  {
   "cell_type": "code",
   "execution_count": 5,
   "metadata": {},
   "outputs": [],
   "source": [
    "# initialize data frame\n",
    "df = pd.DataFrame(columns = ['Team', 'StatCat', 'StatName', 'Player', 'PlayerID', 'Value', 'Opponent'])\n",
    "\n",
    "# Get data from each week\n",
    "for i in range(0, len(games_2020)):\n",
    "    temp = get_stats(games_2020[i])\n",
    "    temp['Week'] = int(i%16+1) # get week to start over in 2021\n",
    "    if(i<16):\n",
    "        temp['Year'] = 2020\n",
    "    else:\n",
    "        temp['Year'] = 2021\n",
    "    df = df.append(temp, ignore_index = True)\n",
    "\n",
    "teams= list(pd.unique(df['Team'])) # use for search"
   ]
  },
  {
   "cell_type": "code",
   "execution_count": 6,
   "metadata": {},
   "outputs": [
    {
     "name": "stderr",
     "output_type": "stream",
     "text": [
      "C:\\Users\\punco\\anaconda3\\lib\\site-packages\\pandas\\core\\indexing.py:966: SettingWithCopyWarning: \n",
      "A value is trying to be set on a copy of a slice from a DataFrame.\n",
      "Try using .loc[row_indexer,col_indexer] = value instead\n",
      "\n",
      "See the caveats in the documentation: https://pandas.pydata.org/pandas-docs/stable/user_guide/indexing.html#returning-a-view-versus-a-copy\n",
      "  self.obj[item] = s\n"
     ]
    }
   ],
   "source": [
    "# Duplicate rows where StatName=C/ATT\n",
    "is_dup = df['StatName'] == 'C/ATT'\n",
    "df_try =  df[is_dup]\n",
    "\n",
    "# New rows = attempts\n",
    "df_try.loc[df_try['StatName']=='C/ATT', 'StatName'] = 'attempts'\n",
    "\n",
    "# Original rows = Comp\n",
    "df.loc[df['StatName']=='C/ATT', 'StatName'] = 'comp'\n",
    "\n",
    "# Append duplicated data frame with changed values to original df\n",
    "df = df.append(df_try,ignore_index=True)"
   ]
  },
  {
   "cell_type": "code",
   "execution_count": 7,
   "metadata": {},
   "outputs": [
    {
     "name": "stderr",
     "output_type": "stream",
     "text": [
      "C:\\Users\\punco\\anaconda3\\lib\\site-packages\\pandas\\core\\indexing.py:671: SettingWithCopyWarning: \n",
      "A value is trying to be set on a copy of a slice from a DataFrame\n",
      "\n",
      "See the caveats in the documentation: https://pandas.pydata.org/pandas-docs/stable/user_guide/indexing.html#returning-a-view-versus-a-copy\n",
      "  self._setitem_with_indexer(indexer, value)\n"
     ]
    }
   ],
   "source": [
    "# Convert 26/36 to 26 comp, 36 attempts\n",
    "mask1 = df.Value.str.contains('/') & df.StatName.str.contains('comp')\n",
    "mask2 = df.Value.str.contains('/') & df.StatName.str.contains('attempts')\n",
    "\n",
    "df.Value.loc[mask1] = df.Value[mask1].str.split('/').str[0]\n",
    "df.Value.loc[mask2] = df.Value[mask2].str.split('/').str[1]"
   ]
  },
  {
   "cell_type": "code",
   "execution_count": 8,
   "metadata": {},
   "outputs": [],
   "source": [
    "# Drop rows where Player = 'Team'\n",
    "df.drop(df[df['Player'] == ' Team'].index, inplace = True)"
   ]
  },
  {
   "cell_type": "code",
   "execution_count": 9,
   "metadata": {},
   "outputs": [],
   "source": [
    "#df.loc[((df['Team'] == \"Texas\") & (df['Year'] == 2021) & (df['Player'] == 'Xavier Worthy'))]"
   ]
  },
  {
   "cell_type": "markdown",
   "metadata": {},
   "source": [
    "# Betting Lines"
   ]
  },
  {
   "cell_type": "code",
   "execution_count": 10,
   "metadata": {},
   "outputs": [],
   "source": [
    "api = cfbd.BettingApi(cfbd.ApiClient(configuration))\n",
    "year = 2020 # int | Year/season filter for games (optional)\n",
    "week = 1 # int | Week filter (optional)\n",
    "season_type = 'regular'\n",
    "\n",
    "api_response = api.get_lines(year=year, week=week, season_type=season_type)"
   ]
  },
  {
   "cell_type": "code",
   "execution_count": 11,
   "metadata": {},
   "outputs": [
    {
     "name": "stdout",
     "output_type": "stream",
     "text": [
      "2020 1\n",
      "2020 2\n",
      "2020 3\n",
      "2020 4\n",
      "2020 5\n",
      "2020 6\n",
      "2020 7\n",
      "2020 8\n",
      "2020 9\n",
      "2020 10\n",
      "2020 11\n",
      "2020 12\n",
      "2020 13\n",
      "2020 14\n",
      "2020 15\n",
      "2020 16\n",
      "2021 1\n",
      "2021 2\n",
      "2021 3\n",
      "2021 4\n",
      "2021 5\n",
      "2021 6\n",
      "2021 7\n",
      "2021 8\n",
      "2021 9\n",
      "2021 10\n",
      "2021 11\n",
      "2021 12\n",
      "2021 13\n",
      "2021 14\n",
      "2021 15\n",
      "2021 16\n"
     ]
    }
   ],
   "source": [
    "# Get data for each week\n",
    "year = 2020\n",
    "year_list = [2020, 2021]\n",
    "season_type = 'regular' # str | Season type filter\n",
    "\n",
    "bets_2020 = [] # list of games by week, week = index+1\n",
    "\n",
    "for i in year_list:\n",
    "    for j in range(1,17):\n",
    "        bets = api.get_lines(year=i, week=j, season_type=season_type)\n",
    "        bets_2020.append(bets)\n",
    "        week = i\n",
    "        year = j\n",
    "        print(week, year) # check "
   ]
  },
  {
   "cell_type": "code",
   "execution_count": 12,
   "metadata": {},
   "outputs": [],
   "source": [
    " # Wrap in a function\n",
    "def get_betting_info(api_response):\n",
    "    bet_df = pd.DataFrame.from_records([dict(Away=b.away_team, Home=b.home_team, awayScore=b.away_score,\n",
    "                                            homeScore=b.home_score, season=b.season, week=b.week) for b in api_response])\n",
    "    \n",
    "    bet_df['Away'] = bet_df['Away'].str.replace('é','e') # San Jose State tildé\n",
    "    bet_df['Home'] = bet_df['Home'].str.replace('é','e') # San Jose State tildé\n",
    "    \n",
    "    lines = [b.lines for b in api_response]\n",
    "    formattedSpread = []\n",
    "    overUnder = []\n",
    "    spread = []\n",
    "\n",
    "    for i in range(0, len(lines)):\n",
    "        for j in range(0, 1): \n",
    "            if(len(lines[i]) > 0): # only want the first line of spread info\n",
    "                formattedSpread.append(lines[i][j%1]['formattedSpread'])\n",
    "                spread.append(lines[i][j%1]['spread'])\n",
    "                overUnder.append(lines[i][j%1]['overUnder'])\n",
    "            else:\n",
    "                formattedSpread.append('')\n",
    "                spread.append('')\n",
    "                overUnder.append('') \n",
    "    \n",
    "    formattedSpread = [sub.replace('é', 'e') for sub in formattedSpread] # San Jose State tildé\n",
    "    # combine lists (list of tuples)\n",
    "    bet_list = list(zip(formattedSpread, spread, overUnder))\n",
    "\n",
    "    # bet information df\n",
    "    df = pd.DataFrame(bet_list, columns=['FormatSpread', 'Spread', 'overUnder'])\n",
    "\n",
    "    # merge game information with bet information\n",
    "    betting_df = pd.concat([bet_df, df], axis=1)\n",
    "    return(betting_df)"
   ]
  },
  {
   "cell_type": "code",
   "execution_count": 13,
   "metadata": {},
   "outputs": [],
   "source": [
    "# initialize data frame\n",
    "bet_df = pd.DataFrame(columns = ['Away', 'Home', 'awayScore', 'homeScore', 'season', 'week', 'FormatSpread', 'Spread', 'overUnder'])\n",
    "\n",
    "# Get data from each week\n",
    "for i in range(0, 32):\n",
    "    if(len(bets_2020[i]) > 0): # fixes error with empty list at index 29\n",
    "        temp = get_betting_info(bets_2020[i])\n",
    "        bet_df = pd.concat([bet_df,temp],axis=0).reset_index(drop=True)\n",
    "\n",
    "# Change week=1 to week=0 for 2021 Week 0 games\n",
    "bet_df['UID'] = bet_df['Away'] + '__' + bet_df['Home']\n",
    "zero_list = ['Nebraska__Illinois', 'Connecticut__Fresno State',\"Hawai'i__UCLA\", \"UTEP__New Mexico State\", \n",
    "             \"Southern Utah__San Jose State\"]\n",
    "bet_df['week'][bet_df['UID'].isin(zero_list)] = 0\n",
    "# Drop UID\n",
    "bet_df = bet_df.drop(columns=['UID'])"
   ]
  },
  {
   "cell_type": "code",
   "execution_count": 14,
   "metadata": {},
   "outputs": [],
   "source": [
    "bet_df.to_csv(r'C:\\Users\\punco\\OneDrive\\Desktop\\Fantasy Football\\2021\\CFB\\CFB2020Betting.csv', index=False)"
   ]
  },
  {
   "cell_type": "markdown",
   "metadata": {},
   "source": [
    "# Game Information Data"
   ]
  },
  {
   "cell_type": "code",
   "execution_count": 15,
   "metadata": {},
   "outputs": [],
   "source": [
    "# create an instance of the API class\n",
    "api_instance = cfbd.GamesApi(cfbd.ApiClient(configuration))\n",
    "\n",
    "year_list = [2020,2021]\n",
    "games_df = pd.DataFrame(columns=['Away', 'Home', 'Season', 'Week'])\n",
    "\n",
    "for i in year_list:\n",
    "    for j in range(1, 17):\n",
    "        api_response = api_instance.get_games(year=i, week=j)\n",
    "        temp_df = pd.DataFrame.from_records([dict(Away=p.away_team, Home=p.home_team, Season=p.season, Week=p.week) \n",
    "                                        for p in api_response])\n",
    "        games_df = games_df.append(temp_df).reset_index(drop=True)\n",
    "\n",
    "games_df['Away'] = games_df['Away'].str.replace('é','e') # San Jose State tildé\n",
    "games_df['Home'] = games_df['Home'].str.replace('é','e') # San Jose State tildé"
   ]
  },
  {
   "cell_type": "code",
   "execution_count": 16,
   "metadata": {},
   "outputs": [],
   "source": [
    "# 2021 doesn't code for week 0, change first 5 games of 2021 to week 0\n",
    "for i in range(542,547):\n",
    "    games_df.loc[i, 'Week'] = 0\n",
    "\n",
    "# Merge in python? merge in R?\n",
    "## Player Team Opponent Week Season Stat1 Stat2 Stat3 ..."
   ]
  },
  {
   "cell_type": "markdown",
   "metadata": {},
   "source": [
    "# Connelly's SP+ ratings"
   ]
  },
  {
   "cell_type": "code",
   "execution_count": 17,
   "metadata": {},
   "outputs": [],
   "source": [
    "api_instance = cfbd.RatingsApi(cfbd.ApiClient(configuration))\n",
    "year_list = [2020, 2021] # int | Season filter (required if team not specified) (optional)\n",
    "sp_list = []\n",
    "# Historical SP+ ratings\n",
    "for i in year_list:\n",
    "    api_response = api_instance.get_sp_ratings(year=i)\n",
    "    sp_list.append(api_response)"
   ]
  },
  {
   "cell_type": "code",
   "execution_count": 18,
   "metadata": {},
   "outputs": [],
   "source": [
    "# SP+ ratings data frame\n",
    "def get_sp(api_response):\n",
    "    sp_df = pd.DataFrame.from_records([dict(Team=s.team, SP=s.rating) for s in api_response])\n",
    "    \n",
    "    # San Jose State tilde\n",
    "    sp_df['Team'] = sp_df['Team'].str.replace('é','e')\n",
    "    \n",
    "    def_ratings = []\n",
    "    off_ratings = []\n",
    "\n",
    "    # Get offensive ratings\n",
    "    temp = [s.offense for s in api_response]\n",
    "    for i in range(0, len(temp)):\n",
    "        off_ratings.append(temp[i]['rating'])\n",
    "\n",
    "    # Get defensive ratings\n",
    "    temp = [s.defense for s in api_response]\n",
    "    for i in range(0, len(temp)):\n",
    "        def_ratings.append(temp[i]['rating'])\n",
    "\n",
    "    # Merge sp_df with offense and defense ratings\n",
    "    ratings_df = pd.DataFrame(list(zip(off_ratings, def_ratings)),\n",
    "                  columns=['OffenseSP','DefenseSP'])\n",
    "\n",
    "    sp_df = pd.concat([sp_df, ratings_df], axis=1) # side-by-side\n",
    "    return(sp_df)"
   ]
  },
  {
   "cell_type": "code",
   "execution_count": 19,
   "metadata": {},
   "outputs": [],
   "source": [
    "sp_df = pd.DataFrame(columns=['Team', 'SP', 'OffenseSP', 'DefenseSP', 'Year'])\n",
    "for i in range(0,2):\n",
    "    temp = get_sp(sp_list[i])\n",
    "    temp['Year'] = year_list[i]\n",
    "    sp_df = pd.concat([sp_df, temp], axis=0).reset_index(drop=True)"
   ]
  },
  {
   "cell_type": "markdown",
   "metadata": {},
   "source": [
    "# Positions"
   ]
  },
  {
   "cell_type": "code",
   "execution_count": 20,
   "metadata": {},
   "outputs": [],
   "source": [
    "# create an instance of the API class\n",
    "api_instance = cfbd.TeamsApi(cfbd.ApiClient(configuration))\n",
    "year_list = [2020,2021] # int | Season year (optional)\n",
    "rosters_year = []\n",
    "\n",
    "for i in year_list:\n",
    "    api_response = api_instance.get_roster(year=i)\n",
    "    rosters_year.append(api_response)"
   ]
  },
  {
   "cell_type": "code",
   "execution_count": 21,
   "metadata": {},
   "outputs": [],
   "source": [
    "# Do something\n",
    "pos_df = pd.DataFrame(columns=['First', 'Last', 'Position', 'Team', 'Year'])\n",
    "for j in range(0,2): # 2 years of data\n",
    "    temp = pd.DataFrame.from_records([dict(First=i.first_name, Last=i.last_name, Position=i.position, Team=i.team) \n",
    "                                      for i in rosters_year[j]])\n",
    "    temp['Year'] = j+2020\n",
    "    pos_df = pos_df.append(temp).reset_index(drop=True)\n",
    "\n",
    "# Change Xavier Worthy's position\n",
    "pos_df.at[28514, 'Position'] = 'WR'\n",
    "\n",
    "# Only offensive skill position players (QB, RB, WR, TE)\n",
    "pos_df = pos_df[pos_df['Position'].isin(['QB','RB','WR','TE'])]\n",
    "\n",
    "# San Jose State thing\n",
    "pos_df['Team'] = pos_df['Team'].str.replace('é','e')\n",
    "\n",
    "#Remove empty rows\n",
    "nan_value = float(\"NaN\")\n",
    "\n",
    "pos_df.replace(\"\", nan_value, inplace=True)\n",
    "\n",
    "pos_df.dropna(subset = [\"First\", \"Last\", \"Position\"], inplace=True)\n",
    "pos_df['Player'] = pos_df['First'] + ' ' + pos_df['Last']\n",
    "\n",
    "# Name match\n",
    "pos_df.replace(\"Christopher Rodriguez Jr.\", \"Chris Rodriguez Jr.\", inplace = True)\n",
    "pos_df.replace(\"Micale Cunningham\", \"Malik Cunningham\", inplace = True)"
   ]
  },
  {
   "cell_type": "code",
   "execution_count": 22,
   "metadata": {},
   "outputs": [
    {
     "data": {
      "text/html": [
       "<div>\n",
       "<style scoped>\n",
       "    .dataframe tbody tr th:only-of-type {\n",
       "        vertical-align: middle;\n",
       "    }\n",
       "\n",
       "    .dataframe tbody tr th {\n",
       "        vertical-align: top;\n",
       "    }\n",
       "\n",
       "    .dataframe thead th {\n",
       "        text-align: right;\n",
       "    }\n",
       "</style>\n",
       "<table border=\"1\" class=\"dataframe\">\n",
       "  <thead>\n",
       "    <tr style=\"text-align: right;\">\n",
       "      <th></th>\n",
       "      <th>First</th>\n",
       "      <th>Last</th>\n",
       "      <th>Position</th>\n",
       "      <th>Team</th>\n",
       "      <th>Year</th>\n",
       "      <th>Player</th>\n",
       "    </tr>\n",
       "  </thead>\n",
       "  <tbody>\n",
       "    <tr>\n",
       "      <th>9062</th>\n",
       "      <td>Jordan</td>\n",
       "      <td>Addison</td>\n",
       "      <td>WR</td>\n",
       "      <td>Pittsburgh</td>\n",
       "      <td>2020</td>\n",
       "      <td>Jordan Addison</td>\n",
       "    </tr>\n",
       "    <tr>\n",
       "      <th>23642</th>\n",
       "      <td>Jordan</td>\n",
       "      <td>Addison</td>\n",
       "      <td>WR</td>\n",
       "      <td>Pittsburgh</td>\n",
       "      <td>2021</td>\n",
       "      <td>Jordan Addison</td>\n",
       "    </tr>\n",
       "  </tbody>\n",
       "</table>\n",
       "</div>"
      ],
      "text/plain": [
       "        First     Last Position        Team  Year          Player\n",
       "9062   Jordan  Addison       WR  Pittsburgh  2020  Jordan Addison\n",
       "23642  Jordan  Addison       WR  Pittsburgh  2021  Jordan Addison"
      ]
     },
     "execution_count": 22,
     "metadata": {},
     "output_type": "execute_result"
    }
   ],
   "source": [
    "pos_df.loc[pos_df['Last']==\"Addison\"]"
   ]
  },
  {
   "cell_type": "code",
   "execution_count": 23,
   "metadata": {},
   "outputs": [],
   "source": [
    "# merge game stats with positions\n",
    "stats_with_pos = pd.merge(df, pos_df, how=\"left\", left_on=[\"Team\",\"Player\",\"Year\"], right_on=['Team', \"Player\", \"Year\"])\n",
    "\n",
    "# Remove NaNs (non-offensive players)\n",
    "# Remove empty rows\n",
    "nan_value = float(\"NaN\")\n",
    "stats_with_pos.replace(\"\", nan_value, inplace=True)\n",
    "stats_with_pos.dropna(subset = [\"First\", \"Last\", \"Position\"], inplace=True)"
   ]
  },
  {
   "cell_type": "code",
   "execution_count": 24,
   "metadata": {},
   "outputs": [],
   "source": [
    "#stats_with_pos.loc[stats_with_pos['Team']==\"Louisville\"]"
   ]
  },
  {
   "cell_type": "code",
   "execution_count": 25,
   "metadata": {},
   "outputs": [
    {
     "name": "stdout",
     "output_type": "stream",
     "text": [
      "                Away                  Home awayScore homeScore season week  \\\n",
      "0   Eastern Kentucky              Marshall         0        59   2020    1   \n",
      "1      South Alabama  Southern Mississippi        32        21   2020    1   \n",
      "2  Stephen F. Austin                  UTEP        14        24   2020    1   \n",
      "\n",
      "                 FormatSpread Spread overUnder  \n",
      "0              Marshall -25.5  -25.5        55  \n",
      "1  Southern Mississippi -12.5  -12.5      54.5  \n",
      "2                     UTEP -4     -4        54   \n",
      "\n",
      "\n",
      "       Team    StatCat StatName             Player PlayerID Value  \\\n",
      "0   Memphis    fumbles      REC        Brady White  3893630     0   \n",
      "3   Memphis    fumbles     LOST        Brady White  3893630     0   \n",
      "6   Memphis    fumbles      FUM        Brady White  3893630     1   \n",
      "9   Memphis  receiving     LONG         Asa Martin  4361333     4   \n",
      "10  Memphis  receiving     LONG    Tahj Washington  4567506     7   \n",
      "11  Memphis  receiving     LONG  Calvin Austin III  4243389     9   \n",
      "12  Memphis  receiving     LONG      Kylan Watkins  4250967     7   \n",
      "13  Memphis  receiving     LONG     Timothy Taylor  4243365    13   \n",
      "14  Memphis  receiving     LONG      Damonte Coxie  4064980    17   \n",
      "15  Memphis  receiving     LONG         Sean Dykes  4039357    38   \n",
      "\n",
      "          Opponent  Week    Year    First        Last Position  \n",
      "0   Arkansas State   1.0  2020.0    Brady       White       QB  \n",
      "3   Arkansas State   1.0  2020.0    Brady       White       QB  \n",
      "6   Arkansas State   1.0  2020.0    Brady       White       QB  \n",
      "9   Arkansas State   1.0  2020.0      Asa      Martin       RB  \n",
      "10  Arkansas State   1.0  2020.0     Tahj  Washington       WR  \n",
      "11  Arkansas State   1.0  2020.0   Calvin  Austin III       WR  \n",
      "12  Arkansas State   1.0  2020.0    Kylan     Watkins       RB  \n",
      "13  Arkansas State   1.0  2020.0  Timothy      Taylor       RB  \n",
      "14  Arkansas State   1.0  2020.0  Damonte       Coxie       WR  \n",
      "15  Arkansas State   1.0  2020.0     Sean       Dykes       TE   \n",
      "\n",
      "\n",
      "                Away                  Home Season Week\n",
      "0   Central Arkansas                   UAB   2020    1\n",
      "1      South Alabama  Southern Mississippi   2020    1\n",
      "2   Eastern Kentucky              Marshall   2020    1\n",
      "3   Middle Tennessee                  Army   2020    1\n",
      "4                SMU           Texas State   2020    1\n",
      "5    Houston Baptist           North Texas   2020    1\n",
      "6     Arkansas State               Memphis   2020    1\n",
      "7  Stephen F. Austin                  UTEP   2020    1\n",
      "8                BYU                  Navy   2020    1\n",
      "9                UAB                 Miami   2020    2 \n",
      "\n",
      "\n",
      "         Team    SP  OffenseSP  DefenseSP  Year\n",
      "0  Ohio State  28.4       45.3       16.7  2020\n",
      "1     Alabama  28.3       46.8       18.6  2020\n",
      "2   Wisconsin  26.5       38.7       12.2  2020\n",
      "3     Clemson  26.1       42.6       16.7  2020\n",
      "4  Notre Dame  21.0       38.3       17.3  2020\n",
      "5     Florida  19.8       43.3       23.9  2020\n",
      "6         BYU  19.2       39.2       20.3  2020\n",
      "7     Georgia  19.1       30.8       12.1  2020\n",
      "8  Cincinnati  18.6       34.5       15.9  2020\n",
      "9      Oregon  18.1       35.1       16.9  2020\n"
     ]
    }
   ],
   "source": [
    "print(bet_df.head(3),'\\n\\n') # bet info\n",
    "print(stats_with_pos.head(10),'\\n\\n') # game stats\n",
    "print(games_df[:10], '\\n\\n') # game info\n",
    "print(sp_df.head(10)) # sp+ ratings"
   ]
  },
  {
   "cell_type": "markdown",
   "metadata": {},
   "source": [
    "## Merge data"
   ]
  },
  {
   "cell_type": "code",
   "execution_count": 26,
   "metadata": {},
   "outputs": [],
   "source": [
    "# games_df with bet_df; keep games_df week data (has week 0 2021)\n",
    "games_bets = pd.merge(games_df, bet_df, how='left', left_on = ['Away','Home','Season','Week'], right_on = ['Away','Home','season','week'])"
   ]
  },
  {
   "cell_type": "code",
   "execution_count": 27,
   "metadata": {},
   "outputs": [],
   "source": [
    "# merge games_bets with SP+ to get away team\n",
    "games_bets2 = pd.merge(games_bets, sp_df, how='left', left_on = ['Away', 'Season'], right_on = ['Team', 'Year'])\n",
    "\n",
    "# Fill NAs with ''\n",
    "games_bets2['AwaySP'] = games_bets2['SP'].fillna(0)\n",
    "games_bets2['AwayDefSP'] = games_bets2['DefenseSP'].fillna(0)\n",
    "games_bets2['AwayOffSP'] = games_bets2['OffenseSP'].fillna(0)\n",
    "\n",
    "# drop unnecessary columns\n",
    "games_bets2.drop(['Team', 'Year', 'SP', 'season', 'week', 'OffenseSP', 'DefenseSP'], axis=1, inplace=True)\n",
    "\n",
    "# merge games_bets with SP+ to get home team\n",
    "games_bets3 = pd.merge(games_bets2, sp_df, how='left', left_on = ['Home', 'Season'], right_on = ['Team', 'Year'])\n",
    "\n",
    "# Fill NAs with ''\n",
    "games_bets3['HomeSP'] = games_bets3['SP'].fillna(0)\n",
    "games_bets3['HomeDefSP'] = games_bets3['DefenseSP'].fillna(0)\n",
    "games_bets3['HomeOffSP'] = games_bets3['OffenseSP'].fillna(0)\n",
    "games_bets3['Spread'] = games_bets3['Spread'].fillna(0)\n",
    "games_bets3['overUnder'] = games_bets3['overUnder'].fillna(0)\n",
    "\n",
    "# drop unnecessary columns\n",
    "games_bets3.drop(['Team', 'Year', 'SP', 'OffenseSP', 'DefenseSP'], axis=1, inplace=True)\n",
    "\n",
    "# Replace empty strings with 0\n",
    "games_bets3.replace('', 0, inplace=True)"
   ]
  },
  {
   "cell_type": "code",
   "execution_count": 28,
   "metadata": {},
   "outputs": [],
   "source": [
    "#print(games_bets3)"
   ]
  },
  {
   "cell_type": "code",
   "execution_count": 29,
   "metadata": {},
   "outputs": [],
   "source": [
    "# Add implied team totals based on spread\n",
    "games_bets3['overUnder'] = games_bets3['overUnder'].astype(float)\n",
    "games_bets3['Spread'] = games_bets3['Spread'].astype(float)\n",
    "\n",
    "games_bets3['HomeTotal'] = (games_bets3['overUnder'] / 2) - (games_bets3['Spread'] / 2)\n",
    "games_bets3['AwayTotal'] = (games_bets3['overUnder'] / 2) + (games_bets3['Spread'] / 2)\n",
    "\n",
    "# If over/under is n/a (0), then change team totals to 0\n",
    "games_bets3.loc[games_bets3.overUnder==0, 'HomeTotal'] = 0\n",
    "games_bets3.loc[games_bets3.overUnder==0, 'AwayTotal'] = 0"
   ]
  },
  {
   "cell_type": "code",
   "execution_count": 30,
   "metadata": {},
   "outputs": [],
   "source": [
    "#print(games_bets3[games_bets3['Week']==0])"
   ]
  },
  {
   "cell_type": "code",
   "execution_count": 31,
   "metadata": {},
   "outputs": [],
   "source": [
    "# Merge player game stats with games_bets\n",
    "suff_A = ['_on_A_match_1', '_on_A_match_2']\n",
    "suff_B = ['_on_B_match_1', '_on_B_match_2']\n",
    "\n",
    "game_stats = pd.concat([stats_with_pos.merge(games_bets3, how='left', left_on=['Team', 'Opponent', 'Year'],\n",
    "                                             right_on=['Away', 'Home', 'Season'],suffixes=suff_A), \n",
    "                stats_with_pos.merge(games_bets3, how='left', left_on=['Team', 'Opponent', 'Year'],\n",
    "                                             right_on=['Home', 'Away', 'Season'], suffixes=suff_B)])\n",
    "\n",
    "# Remove empty rows\n",
    "nan_value = float(\"NaN\")\n",
    "game_stats.replace(\"\", nan_value, inplace=True)\n",
    "game_stats.dropna(subset = [\"Away\", \"Home\", \"Season\"], inplace=True)\n",
    "\n",
    "# separate week 0 games from df to append to final DF below\n",
    "#zeros_ind = (game_stats.Week_on_B_match_2==0)\n",
    "#zeros_df = game_stats[zeros_ind]\n",
    "\n",
    "# Create unique ID to drop dupes\n",
    "game_stats['UID'] = game_stats['Player'].map(str) + game_stats['StatCat'].map(str) + game_stats['StatName'].map(str) + game_stats['Value'].map(str) + game_stats['Opponent'].map(str) + game_stats['Year'].map(str)\n",
    "\n",
    "# Count times unique ID appears\n",
    "game_stats['freq'] = game_stats.groupby('UID')['UID'].transform('count')\n",
    "\n",
    "# Remove duplicates\n",
    "game_stats_no_dupes = game_stats[game_stats['freq']==1].reset_index(drop=True)\n",
    "\n",
    "# Drop columns\n",
    "game_stats_no_dupes.drop(['UID', 'freq', 'Week_on_A_match_1','Week_on_B_match_1'], axis=1, inplace=True)\n",
    "\n",
    "# 'Week_on_B_match_2' and 'Week_on_A_match_2' need to be merged into 1 column\n",
    "week_df = game_stats_no_dupes[['Week_on_A_match_2', 'Week_on_B_match_2']]\n",
    "game_stats_no_dupes['Week'] = week_df.bfill(axis=1).iloc[:, 0]\n",
    "game_stats_no_dupes.drop(['Week_on_A_match_2','Week_on_B_match_2'], axis=1, inplace=True)"
   ]
  },
  {
   "cell_type": "markdown",
   "metadata": {},
   "source": [
    "# Player Usage (rush share, pass share, etc)"
   ]
  },
  {
   "cell_type": "code",
   "execution_count": 32,
   "metadata": {},
   "outputs": [],
   "source": [
    "# create an instance of the API class\n",
    "api_instance = cfbd.PlayersApi(cfbd.ApiClient(configuration))\n",
    "year_list = [2020,2021]\n",
    "exclude_garbage_time = True # bool | Filter to remove garbage time plays from calculations (optional)\n",
    "\n",
    "usage = []\n",
    "for i in year_list:\n",
    "    api_response = api_instance.get_player_usage(year=i, exclude_garbage_time=exclude_garbage_time)\n",
    "    usage.append(api_response)"
   ]
  },
  {
   "cell_type": "code",
   "execution_count": 33,
   "metadata": {},
   "outputs": [],
   "source": [
    "temp_dict = [[dict(Player=i.name, Team=i.team, Season=i.season, Position=i.position, Usage=i.usage) \n",
    "              for i in usage[j]] for j in range(0,2)]\n",
    "\n",
    "player_list = []\n",
    "team_list = []\n",
    "season_list = []\n",
    "pos_list = []\n",
    "overall_usage = []\n",
    "firstDown_usage = []\n",
    "pass_usage = []\n",
    "rush_usage = []\n",
    "secondDown_usage = []\n",
    "thirdDown_usage = []\n",
    "passingDowns_usage = []\n",
    "standardDowns_usage = []\n",
    "\n",
    "for i in range(0, len(temp_dict)):\n",
    "    for k in range(0, len(temp_dict[i])):\n",
    "        player_list.append(temp_dict[i][k]['Player'])\n",
    "        team_list.append(temp_dict[i][k]['Team'])\n",
    "        season_list.append(temp_dict[i][k]['Season'])\n",
    "        pos_list.append(temp_dict[i][k]['Position'])\n",
    "        overall_usage.append(temp_dict[i][k]['Usage']['overall'])\n",
    "        firstDown_usage.append(temp_dict[i][k]['Usage']['firstDown'])\n",
    "        pass_usage.append(temp_dict[i][k]['Usage']['pass'])\n",
    "        rush_usage.append(temp_dict[i][k]['Usage']['rush'])\n",
    "        secondDown_usage.append(temp_dict[i][k]['Usage']['secondDown'])\n",
    "        thirdDown_usage.append(temp_dict[i][k]['Usage']['thirdDown'])\n",
    "        passingDowns_usage.append(temp_dict[i][k]['Usage']['passingDowns'])\n",
    "        standardDowns_usage.append(temp_dict[i][k]['Usage']['standardDowns'])\n",
    "\n",
    "# Zip lists\n",
    "usage_list = []\n",
    "for e,f,g,h,i,j,k,l,m,n,o,p in zip(player_list, team_list, season_list, pos_list, overall_usage, firstDown_usage,\n",
    "                                   pass_usage, rush_usage, secondDown_usage, thirdDown_usage, passingDowns_usage, \n",
    "                                   standardDowns_usage):\n",
    "    temp = { 'Player':e, 'Team':f, 'Season':g, 'Position':h, 'Overall': i, 'FirstDown':j, 'Passing':k, 'Rushing': l,\n",
    "            'SecondDown': m, 'ThirdDown':n, 'PassingDowns':o, 'Standard':p }\n",
    "    usage_list.append(temp)\n",
    "\n",
    "# convert to df\n",
    "usage_df = pd.DataFrame(usage_list)"
   ]
  },
  {
   "cell_type": "code",
   "execution_count": 34,
   "metadata": {},
   "outputs": [],
   "source": [
    "#usage_df.loc[usage_df['Team']=='Ohio State']"
   ]
  },
  {
   "cell_type": "markdown",
   "metadata": {},
   "source": [
    "# Merge usage with game stats"
   ]
  },
  {
   "cell_type": "code",
   "execution_count": 35,
   "metadata": {},
   "outputs": [],
   "source": [
    "game_stats_with_usage = pd.merge(game_stats_no_dupes, usage_df, how = 'left',\n",
    "                                 left_on = ['Team','Player','Year','Position'],\n",
    "                                 right_on = ['Team','Player','Season','Position'])"
   ]
  },
  {
   "cell_type": "code",
   "execution_count": 36,
   "metadata": {},
   "outputs": [],
   "source": [
    "game_stats_with_usage.to_csv(r'C:\\Users\\punco\\OneDrive\\Desktop\\Fantasy Football\\2021\\CFB\\CFBGameStats.csv', index=False)"
   ]
  }
 ],
 "metadata": {
  "kernelspec": {
   "display_name": "Python 3",
   "language": "python",
   "name": "python3"
  },
  "language_info": {
   "codemirror_mode": {
    "name": "ipython",
    "version": 3
   },
   "file_extension": ".py",
   "mimetype": "text/x-python",
   "name": "python",
   "nbconvert_exporter": "python",
   "pygments_lexer": "ipython3",
   "version": "3.8.3"
  }
 },
 "nbformat": 4,
 "nbformat_minor": 4
}
